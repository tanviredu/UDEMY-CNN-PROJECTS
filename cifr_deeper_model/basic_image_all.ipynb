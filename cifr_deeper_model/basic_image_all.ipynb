{
  "nbformat": 4,
  "nbformat_minor": 0,
  "metadata": {
    "colab": {
      "name": "basic_image-all.ipynb",
      "provenance": []
    },
    "kernelspec": {
      "name": "python3",
      "display_name": "Python 3"
    },
    "accelerator": "GPU"
  },
  "cells": [
    {
      "cell_type": "code",
      "metadata": {
        "id": "_6oNm69IS6Vn",
        "colab_type": "code",
        "colab": {
          "base_uri": "https://localhost:8080/",
          "height": 367
        },
        "outputId": "74457969-56ca-43c0-f318-175c197164a6"
      },
      "source": [
        "!pip install h2o\n",
        "import numpy as np\n",
        "import pandas as pd\n",
        "import matplotlib.pyplot as plt\n",
        "import tensorflow as tf\n",
        "import keras \n",
        "import h2o\n",
        "import fastai"
      ],
      "execution_count": 2,
      "outputs": [
        {
          "output_type": "stream",
          "text": [
            "Collecting h2o\n",
            "\u001b[?25l  Downloading https://files.pythonhosted.org/packages/43/e5/3d75dfc75f7ef5018acf4f1f2e73cdd6ac41eca44a6908f20dd1be71acb6/h2o-3.26.0.5.tar.gz (123.6MB)\n",
            "\u001b[K     |████████████████████████████████| 123.6MB 198kB/s \n",
            "\u001b[?25hRequirement already satisfied: requests in /usr/local/lib/python3.6/dist-packages (from h2o) (2.21.0)\n",
            "Requirement already satisfied: tabulate in /usr/local/lib/python3.6/dist-packages (from h2o) (0.8.3)\n",
            "Requirement already satisfied: future in /usr/local/lib/python3.6/dist-packages (from h2o) (0.16.0)\n",
            "Collecting colorama>=0.3.8 (from h2o)\n",
            "  Downloading https://files.pythonhosted.org/packages/4f/a6/728666f39bfff1719fc94c481890b2106837da9318031f71a8424b662e12/colorama-0.4.1-py2.py3-none-any.whl\n",
            "Requirement already satisfied: idna<2.9,>=2.5 in /usr/local/lib/python3.6/dist-packages (from requests->h2o) (2.8)\n",
            "Requirement already satisfied: certifi>=2017.4.17 in /usr/local/lib/python3.6/dist-packages (from requests->h2o) (2019.6.16)\n",
            "Requirement already satisfied: chardet<3.1.0,>=3.0.2 in /usr/local/lib/python3.6/dist-packages (from requests->h2o) (3.0.4)\n",
            "Requirement already satisfied: urllib3<1.25,>=1.21.1 in /usr/local/lib/python3.6/dist-packages (from requests->h2o) (1.24.3)\n",
            "Building wheels for collected packages: h2o\n",
            "  Building wheel for h2o (setup.py) ... \u001b[?25l\u001b[?25hdone\n",
            "  Created wheel for h2o: filename=h2o-3.26.0.5-py2.py3-none-any.whl size=123672284 sha256=24104f263f4695bdcc0fc3c8c3c884d7cbceb01c3c0655f9f6ccf31fd2ae246c\n",
            "  Stored in directory: /root/.cache/pip/wheels/c9/d2/24/eeb5f07ff6826ea23325338cd3fb5754b99592a3f2b4e67f27\n",
            "Successfully built h2o\n",
            "Installing collected packages: colorama, h2o\n",
            "Successfully installed colorama-0.4.1 h2o-3.26.0.5\n"
          ],
          "name": "stdout"
        }
      ]
    },
    {
      "cell_type": "markdown",
      "metadata": {
        "id": "LnK2W319T469",
        "colab_type": "text"
      },
      "source": [
        "## tensorflow and keras"
      ]
    },
    {
      "cell_type": "code",
      "metadata": {
        "id": "HfmqZuuDTqbx",
        "colab_type": "code",
        "colab": {}
      },
      "source": [
        "from keras.datasets import mnist\n",
        "from keras.models import Sequential\n",
        "from keras.layers import Dense, Dropout, Flatten\n",
        "from keras.layers import Conv2D, MaxPooling2D"
      ],
      "execution_count": 0,
      "outputs": []
    },
    {
      "cell_type": "code",
      "metadata": {
        "id": "BUPpFOE1UACE",
        "colab_type": "code",
        "colab": {
          "base_uri": "https://localhost:8080/",
          "height": 52
        },
        "outputId": "a4a9e24d-e1e5-46dc-82a7-d25265f52401"
      },
      "source": [
        "## import the dataset\n",
        "(x_train,y_train),(x_test,y_test) = mnist.load_data()"
      ],
      "execution_count": 4,
      "outputs": [
        {
          "output_type": "stream",
          "text": [
            "Downloading data from https://s3.amazonaws.com/img-datasets/mnist.npz\n",
            "11493376/11490434 [==============================] - 1s 0us/step\n"
          ],
          "name": "stdout"
        }
      ]
    },
    {
      "cell_type": "code",
      "metadata": {
        "id": "YNveoTFdUJAv",
        "colab_type": "code",
        "colab": {}
      },
      "source": [
        "## normalize those images\n",
        "x_train_norm = keras.utils.normalize(x_train)\n",
        "x_test_norm = keras.utils.normalize(x_test)"
      ],
      "execution_count": 0,
      "outputs": []
    },
    {
      "cell_type": "code",
      "metadata": {
        "id": "Sedlz2usUa4P",
        "colab_type": "code",
        "colab": {}
      },
      "source": [
        "## changing the shape of the image\n",
        "x_train = x_train_norm.reshape(x_train_norm.shape[0],28,28,1)\n",
        "x_test = x_test_norm.reshape(x_test_norm.shape[0],28,28,1)"
      ],
      "execution_count": 0,
      "outputs": []
    },
    {
      "cell_type": "code",
      "metadata": {
        "id": "d_t_LSYkU9EN",
        "colab_type": "code",
        "colab": {
          "base_uri": "https://localhost:8080/",
          "height": 52
        },
        "outputId": "759b497c-293e-4236-aae1-e1346a7468e4"
      },
      "source": [
        "print (x_train.shape)\n",
        "print (x_test.shape)"
      ],
      "execution_count": 7,
      "outputs": [
        {
          "output_type": "stream",
          "text": [
            "(60000, 28, 28, 1)\n",
            "(10000, 28, 28, 1)\n"
          ],
          "name": "stdout"
        }
      ]
    },
    {
      "cell_type": "code",
      "metadata": {
        "id": "_K4bDNXCWXP_",
        "colab_type": "code",
        "colab": {}
      },
      "source": [
        "def NNmodel():\n",
        "  model = Sequential()\n",
        "  model.add(Conv2D(32,(3,3),input_shape=(28,28,1),activation='relu'))\n",
        "  model.add(Conv2D(32,(3,3),activation='relu'))\n",
        "  model.add(MaxPooling2D(pool_size=(2,2)))\n",
        "  model.add(Flatten())\n",
        "  model.add(Dense(128,activation='relu'))\n",
        "  model.add(Dropout(.25))\n",
        "  model.add(Dense(128,activation='relu'))\n",
        "  model.add(Dropout(.25))\n",
        "  model.add(Dense(10,activation='softmax'))\n",
        "  model.compile(loss='sparse_categorical_crossentropy',optimizer='adam',metrics=['accuracy'])\n",
        "  return model\n"
      ],
      "execution_count": 0,
      "outputs": []
    },
    {
      "cell_type": "code",
      "metadata": {
        "id": "vK5_iaSsX47j",
        "colab_type": "code",
        "colab": {
          "base_uri": "https://localhost:8080/",
          "height": 558
        },
        "outputId": "a6eb3fe8-1875-4041-bda8-138e811e358a"
      },
      "source": [
        "model = NNmodel()"
      ],
      "execution_count": 11,
      "outputs": [
        {
          "output_type": "stream",
          "text": [
            "WARNING:tensorflow:From /usr/local/lib/python3.6/dist-packages/keras/backend/tensorflow_backend.py:541: The name tf.placeholder is deprecated. Please use tf.compat.v1.placeholder instead.\n",
            "\n"
          ],
          "name": "stdout"
        },
        {
          "output_type": "stream",
          "text": [
            "WARNING:tensorflow:From /usr/local/lib/python3.6/dist-packages/keras/backend/tensorflow_backend.py:541: The name tf.placeholder is deprecated. Please use tf.compat.v1.placeholder instead.\n",
            "\n"
          ],
          "name": "stderr"
        },
        {
          "output_type": "stream",
          "text": [
            "WARNING:tensorflow:From /usr/local/lib/python3.6/dist-packages/keras/backend/tensorflow_backend.py:4432: The name tf.random_uniform is deprecated. Please use tf.random.uniform instead.\n",
            "\n"
          ],
          "name": "stdout"
        },
        {
          "output_type": "stream",
          "text": [
            "WARNING:tensorflow:From /usr/local/lib/python3.6/dist-packages/keras/backend/tensorflow_backend.py:4432: The name tf.random_uniform is deprecated. Please use tf.random.uniform instead.\n",
            "\n"
          ],
          "name": "stderr"
        },
        {
          "output_type": "stream",
          "text": [
            "WARNING:tensorflow:From /usr/local/lib/python3.6/dist-packages/keras/backend/tensorflow_backend.py:4267: The name tf.nn.max_pool is deprecated. Please use tf.nn.max_pool2d instead.\n",
            "\n"
          ],
          "name": "stdout"
        },
        {
          "output_type": "stream",
          "text": [
            "WARNING:tensorflow:From /usr/local/lib/python3.6/dist-packages/keras/backend/tensorflow_backend.py:4267: The name tf.nn.max_pool is deprecated. Please use tf.nn.max_pool2d instead.\n",
            "\n"
          ],
          "name": "stderr"
        },
        {
          "output_type": "stream",
          "text": [
            "WARNING:tensorflow:From /usr/local/lib/python3.6/dist-packages/keras/backend/tensorflow_backend.py:148: The name tf.placeholder_with_default is deprecated. Please use tf.compat.v1.placeholder_with_default instead.\n",
            "\n"
          ],
          "name": "stdout"
        },
        {
          "output_type": "stream",
          "text": [
            "WARNING:tensorflow:From /usr/local/lib/python3.6/dist-packages/keras/backend/tensorflow_backend.py:148: The name tf.placeholder_with_default is deprecated. Please use tf.compat.v1.placeholder_with_default instead.\n",
            "\n"
          ],
          "name": "stderr"
        },
        {
          "output_type": "stream",
          "text": [
            "WARNING:tensorflow:From /usr/local/lib/python3.6/dist-packages/keras/backend/tensorflow_backend.py:3733: calling dropout (from tensorflow.python.ops.nn_ops) with keep_prob is deprecated and will be removed in a future version.\n",
            "Instructions for updating:\n",
            "Please use `rate` instead of `keep_prob`. Rate should be set to `rate = 1 - keep_prob`.\n"
          ],
          "name": "stdout"
        },
        {
          "output_type": "stream",
          "text": [
            "WARNING:tensorflow:From /usr/local/lib/python3.6/dist-packages/keras/backend/tensorflow_backend.py:3733: calling dropout (from tensorflow.python.ops.nn_ops) with keep_prob is deprecated and will be removed in a future version.\n",
            "Instructions for updating:\n",
            "Please use `rate` instead of `keep_prob`. Rate should be set to `rate = 1 - keep_prob`.\n"
          ],
          "name": "stderr"
        },
        {
          "output_type": "stream",
          "text": [
            "WARNING:tensorflow:From /usr/local/lib/python3.6/dist-packages/keras/optimizers.py:793: The name tf.train.Optimizer is deprecated. Please use tf.compat.v1.train.Optimizer instead.\n",
            "\n"
          ],
          "name": "stdout"
        },
        {
          "output_type": "stream",
          "text": [
            "WARNING:tensorflow:From /usr/local/lib/python3.6/dist-packages/keras/optimizers.py:793: The name tf.train.Optimizer is deprecated. Please use tf.compat.v1.train.Optimizer instead.\n",
            "\n"
          ],
          "name": "stderr"
        },
        {
          "output_type": "stream",
          "text": [
            "WARNING:tensorflow:From /usr/local/lib/python3.6/dist-packages/keras/backend/tensorflow_backend.py:3622: The name tf.log is deprecated. Please use tf.math.log instead.\n",
            "\n"
          ],
          "name": "stdout"
        },
        {
          "output_type": "stream",
          "text": [
            "WARNING:tensorflow:From /usr/local/lib/python3.6/dist-packages/keras/backend/tensorflow_backend.py:3622: The name tf.log is deprecated. Please use tf.math.log instead.\n",
            "\n"
          ],
          "name": "stderr"
        }
      ]
    },
    {
      "cell_type": "code",
      "metadata": {
        "id": "vRt7fb5PX7So",
        "colab_type": "code",
        "colab": {
          "base_uri": "https://localhost:8080/",
          "height": 506
        },
        "outputId": "411426b4-7e74-4db7-ab24-83169d8f45d5"
      },
      "source": [
        "model.fit(x_train,y_train,epochs=10)"
      ],
      "execution_count": 12,
      "outputs": [
        {
          "output_type": "stream",
          "text": [
            "WARNING:tensorflow:From /usr/local/lib/python3.6/dist-packages/tensorflow/python/ops/math_grad.py:1250: add_dispatch_support.<locals>.wrapper (from tensorflow.python.ops.array_ops) is deprecated and will be removed in a future version.\n",
            "Instructions for updating:\n",
            "Use tf.where in 2.0, which has the same broadcast rule as np.where\n"
          ],
          "name": "stdout"
        },
        {
          "output_type": "stream",
          "text": [
            "WARNING:tensorflow:From /usr/local/lib/python3.6/dist-packages/tensorflow/python/ops/math_grad.py:1250: add_dispatch_support.<locals>.wrapper (from tensorflow.python.ops.array_ops) is deprecated and will be removed in a future version.\n",
            "Instructions for updating:\n",
            "Use tf.where in 2.0, which has the same broadcast rule as np.where\n"
          ],
          "name": "stderr"
        },
        {
          "output_type": "stream",
          "text": [
            "Epoch 1/10\n",
            "60000/60000 [==============================] - 19s 312us/step - loss: 0.1984 - acc: 0.9379\n",
            "Epoch 2/10\n",
            "60000/60000 [==============================] - 10s 173us/step - loss: 0.0710 - acc: 0.9791\n",
            "Epoch 3/10\n",
            "60000/60000 [==============================] - 10s 169us/step - loss: 0.0481 - acc: 0.9856\n",
            "Epoch 4/10\n",
            "60000/60000 [==============================] - 10s 172us/step - loss: 0.0381 - acc: 0.9886\n",
            "Epoch 5/10\n",
            "60000/60000 [==============================] - 10s 167us/step - loss: 0.0335 - acc: 0.9901\n",
            "Epoch 6/10\n",
            "60000/60000 [==============================] - 10s 167us/step - loss: 0.0258 - acc: 0.9925\n",
            "Epoch 7/10\n",
            "60000/60000 [==============================] - 10s 170us/step - loss: 0.0223 - acc: 0.9936\n",
            "Epoch 8/10\n",
            "60000/60000 [==============================] - 10s 166us/step - loss: 0.0187 - acc: 0.9942\n",
            "Epoch 9/10\n",
            "60000/60000 [==============================] - 10s 168us/step - loss: 0.0162 - acc: 0.9950\n",
            "Epoch 10/10\n",
            "60000/60000 [==============================] - 10s 171us/step - loss: 0.0180 - acc: 0.9948\n"
          ],
          "name": "stdout"
        },
        {
          "output_type": "execute_result",
          "data": {
            "text/plain": [
              "<keras.callbacks.History at 0x7f80b102b550>"
            ]
          },
          "metadata": {
            "tags": []
          },
          "execution_count": 12
        }
      ]
    },
    {
      "cell_type": "code",
      "metadata": {
        "id": "CCVn2DMwYHm5",
        "colab_type": "code",
        "colab": {
          "base_uri": "https://localhost:8080/",
          "height": 34
        },
        "outputId": "7cc2c5ad-cc3b-45cd-8268-eda18f4b43b3"
      },
      "source": [
        "score = model.evaluate(x_test,y_test)"
      ],
      "execution_count": 13,
      "outputs": [
        {
          "output_type": "stream",
          "text": [
            "10000/10000 [==============================] - 1s 77us/step\n"
          ],
          "name": "stdout"
        }
      ]
    },
    {
      "cell_type": "code",
      "metadata": {
        "id": "_iQEhd1ea2v_",
        "colab_type": "code",
        "colab": {
          "base_uri": "https://localhost:8080/",
          "height": 34
        },
        "outputId": "e9bb6050-fdf1-471d-dfbf-26039a7f3927"
      },
      "source": [
        "print(score)"
      ],
      "execution_count": 14,
      "outputs": [
        {
          "output_type": "stream",
          "text": [
            "[0.038911228435405426, 0.9912]\n"
          ],
          "name": "stdout"
        }
      ]
    },
    {
      "cell_type": "code",
      "metadata": {
        "id": "pk9x_YRQa5WW",
        "colab_type": "code",
        "colab": {}
      },
      "source": [
        "from keras.datasets import cifar10\n",
        "(x_train1, y_train1), (x_test1, y_test1) = cifar10.load_data()"
      ],
      "execution_count": 0,
      "outputs": []
    },
    {
      "cell_type": "code",
      "metadata": {
        "id": "JgeezcsXbYab",
        "colab_type": "code",
        "colab": {}
      },
      "source": [
        "## normalize those images\n",
        "x_train_norm1 = x_train1/255\n",
        "x_test_norm1 = x_test1/255"
      ],
      "execution_count": 0,
      "outputs": []
    },
    {
      "cell_type": "code",
      "metadata": {
        "id": "foeNRTeHbqr1",
        "colab_type": "code",
        "colab": {}
      },
      "source": [
        "\n",
        "## changing the shape of the image\n",
        "x_train1 = x_train_norm1.reshape(x_train_norm1.shape[0],32,32,3)\n",
        "x_test1 = x_test_norm1.reshape(x_test_norm1.shape[0],32,32,3)"
      ],
      "execution_count": 0,
      "outputs": []
    },
    {
      "cell_type": "code",
      "metadata": {
        "id": "zgZ36siOb13T",
        "colab_type": "code",
        "colab": {
          "base_uri": "https://localhost:8080/",
          "height": 52
        },
        "outputId": "c3ba233d-3084-4113-f452-5d76ebb0d25e"
      },
      "source": [
        "print (x_train_norm1.shape)\n",
        "print (x_train1.shape)\n"
      ],
      "execution_count": 53,
      "outputs": [
        {
          "output_type": "stream",
          "text": [
            "(50000, 32, 32, 3)\n",
            "(50000, 32, 32, 3)\n"
          ],
          "name": "stdout"
        }
      ]
    },
    {
      "cell_type": "code",
      "metadata": {
        "id": "jjdY0ylRcQGx",
        "colab_type": "code",
        "colab": {}
      },
      "source": [
        "def NNmodel():\n",
        "  model = Sequential()\n",
        "  model.add(Conv2D(32,(3,3),input_shape=(32,32,3),padding='same',activation='relu'))\n",
        "  model.add(Conv2D(32,(3,3),activation='relu'))\n",
        "  model.add(MaxPooling2D(pool_size=(2,2)))\n",
        "  model.add(Flatten())\n",
        "  model.add(Dense(128,activation='relu'))\n",
        "  model.add(Dropout(.25))\n",
        "  model.add(Dense(128,activation='relu'))\n",
        "  model.add(Dropout(.25))\n",
        "  model.add(Dense(10,activation='softmax'))\n",
        "  model.compile(loss='sparse_categorical_crossentropy',optimizer='adam',metrics=['accuracy'])\n",
        "  return model"
      ],
      "execution_count": 0,
      "outputs": []
    },
    {
      "cell_type": "code",
      "metadata": {
        "id": "7aF0UMTecsdd",
        "colab_type": "code",
        "colab": {}
      },
      "source": [
        "model = NNmodel()"
      ],
      "execution_count": 0,
      "outputs": []
    },
    {
      "cell_type": "code",
      "metadata": {
        "id": "Njsr_X_Lcu7V",
        "colab_type": "code",
        "colab": {
          "base_uri": "https://localhost:8080/",
          "height": 575
        },
        "outputId": "b27b8df3-8195-4f87-9242-c35bc3f38640"
      },
      "source": [
        "model.fit(x_train1,y_train1,epochs=15)"
      ],
      "execution_count": 56,
      "outputs": [
        {
          "output_type": "stream",
          "text": [
            "Epoch 1/15\n",
            "50000/50000 [==============================] - 15s 295us/step - loss: 1.4897 - acc: 0.4553\n",
            "Epoch 2/15\n",
            "50000/50000 [==============================] - 13s 256us/step - loss: 1.1179 - acc: 0.6048\n",
            "Epoch 3/15\n",
            "50000/50000 [==============================] - 13s 251us/step - loss: 0.9706 - acc: 0.6586\n",
            "Epoch 4/15\n",
            "50000/50000 [==============================] - 12s 249us/step - loss: 0.8674 - acc: 0.6921\n",
            "Epoch 5/15\n",
            "50000/50000 [==============================] - 12s 245us/step - loss: 0.7761 - acc: 0.7242\n",
            "Epoch 6/15\n",
            "50000/50000 [==============================] - 12s 247us/step - loss: 0.7073 - acc: 0.7487\n",
            "Epoch 7/15\n",
            "50000/50000 [==============================] - 12s 247us/step - loss: 0.6376 - acc: 0.7742\n",
            "Epoch 8/15\n",
            "50000/50000 [==============================] - 12s 247us/step - loss: 0.5845 - acc: 0.7944\n",
            "Epoch 9/15\n",
            "50000/50000 [==============================] - 12s 243us/step - loss: 0.5305 - acc: 0.8114\n",
            "Epoch 10/15\n",
            "50000/50000 [==============================] - 12s 245us/step - loss: 0.4884 - acc: 0.8264\n",
            "Epoch 11/15\n",
            "50000/50000 [==============================] - 12s 243us/step - loss: 0.4508 - acc: 0.8406\n",
            "Epoch 12/15\n",
            "50000/50000 [==============================] - 12s 239us/step - loss: 0.4172 - acc: 0.8532\n",
            "Epoch 13/15\n",
            "50000/50000 [==============================] - 12s 239us/step - loss: 0.3875 - acc: 0.8635\n",
            "Epoch 14/15\n",
            "50000/50000 [==============================] - 12s 241us/step - loss: 0.3653 - acc: 0.8726\n",
            "Epoch 15/15\n",
            "50000/50000 [==============================] - 12s 242us/step - loss: 0.3461 - acc: 0.8791\n"
          ],
          "name": "stdout"
        },
        {
          "output_type": "execute_result",
          "data": {
            "text/plain": [
              "<keras.callbacks.History at 0x7f80152ad828>"
            ]
          },
          "metadata": {
            "tags": []
          },
          "execution_count": 56
        }
      ]
    },
    {
      "cell_type": "code",
      "metadata": {
        "id": "Ugw6znObc3fX",
        "colab_type": "code",
        "colab": {
          "base_uri": "https://localhost:8080/",
          "height": 52
        },
        "outputId": "029e3e94-b38a-44f9-cf01-c06248d7bc48"
      },
      "source": [
        "model.evaluate(x_test1,y_test1)"
      ],
      "execution_count": 57,
      "outputs": [
        {
          "output_type": "stream",
          "text": [
            "10000/10000 [==============================] - 2s 196us/step\n"
          ],
          "name": "stdout"
        },
        {
          "output_type": "execute_result",
          "data": {
            "text/plain": [
              "[1.2589526782989502, 0.6766]"
            ]
          },
          "metadata": {
            "tags": []
          },
          "execution_count": 57
        }
      ]
    },
    {
      "cell_type": "code",
      "metadata": {
        "id": "LYHJf_8fd_2T",
        "colab_type": "code",
        "colab": {}
      },
      "source": [
        "# more deeper model\n",
        "from keras.layers import Dense, Dropout, Activation, Flatten\n",
        "from keras.layers import Conv2D, MaxPooling2D"
      ],
      "execution_count": 0,
      "outputs": []
    },
    {
      "cell_type": "code",
      "metadata": {
        "id": "fqdCO9WDeWMt",
        "colab_type": "code",
        "colab": {}
      },
      "source": [
        "def Deepermodel():\n",
        "  model = Sequential()\n",
        "  model.add(Conv2D(32,(3,3),input_shape=(32,32,3),padding='same',activation='relu'))\n",
        "  model.add(Conv2D(32,(3,3),input_shape=(32,32,3),padding='same',activation='relu'))  \n",
        "  model.add(MaxPooling2D(pool_size=(2,2)))\n",
        "  model.add(Dropout(.2))\n",
        "  model.add(Conv2D(32,(3,3),input_shape=(32,32,3),padding='same',activation='relu'))  \n",
        "  model.add(MaxPooling2D(pool_size=(2,2)))\n",
        "  model.add(Dropout(.2))\n",
        "  model.add(Conv2D(32,(3,3),input_shape=(32,32,3),padding='same',activation='relu'))  \n",
        "  model.add(MaxPooling2D(pool_size=(2,2)))\n",
        "  model.add(Dropout(.2))\n",
        "  model.add(Conv2D(32,(3,3),input_shape=(32,32,3),padding='same',activation='relu'))  \n",
        "  model.add(MaxPooling2D(pool_size=(2,2)))\n",
        "  model.add(Dropout(.2))\n",
        "  model.add(Conv2D(32,(3,3),input_shape=(32,32,3),padding='same',activation='relu'))  \n",
        "  model.add(MaxPooling2D(pool_size=(2,2)))\n",
        "  model.add(Dropout(.2))\n",
        "  model.add(Flatten())\n",
        "  model.add(Dense(512,activation='relu'))\n",
        "  model.add(Dropout(.2))\n",
        "  model.add(Dense(512,activation='relu'))\n",
        "  model.add(Dropout(.2))\n",
        "  model.add(Dense(512,activation='relu'))\n",
        "  model.add(Dropout(.2))\n",
        "  model.add(Dense(10,activation='softmax'))\n",
        "  model.compile(loss='sparse_categorical_crossentropy',optimizer='adam',metrics=['accuracy'])\n",
        "  return model"
      ],
      "execution_count": 0,
      "outputs": []
    },
    {
      "cell_type": "code",
      "metadata": {
        "id": "iNxUzgDIgw63",
        "colab_type": "code",
        "colab": {}
      },
      "source": [
        "model = Deepermodel()"
      ],
      "execution_count": 0,
      "outputs": []
    },
    {
      "cell_type": "code",
      "metadata": {
        "id": "-mSatnsYg4W4",
        "colab_type": "code",
        "colab": {
          "base_uri": "https://localhost:8080/",
          "height": 575
        },
        "outputId": "7f573e42-3ae4-4026-b6fa-e4754fe6e793"
      },
      "source": [
        "model.fit(x_train1,y_train1,epochs=15)"
      ],
      "execution_count": 61,
      "outputs": [
        {
          "output_type": "stream",
          "text": [
            "Epoch 1/15\n",
            "50000/50000 [==============================] - 19s 388us/step - loss: 1.8643 - acc: 0.2587\n",
            "Epoch 2/15\n",
            "50000/50000 [==============================] - 17s 338us/step - loss: 1.5702 - acc: 0.4012\n",
            "Epoch 3/15\n",
            "50000/50000 [==============================] - 16s 330us/step - loss: 1.4267 - acc: 0.4708\n",
            "Epoch 4/15\n",
            "50000/50000 [==============================] - 17s 334us/step - loss: 1.3297 - acc: 0.5170\n",
            "Epoch 5/15\n",
            "50000/50000 [==============================] - 17s 330us/step - loss: 1.2600 - acc: 0.5480\n",
            "Epoch 6/15\n",
            "50000/50000 [==============================] - 17s 331us/step - loss: 1.2140 - acc: 0.5664\n",
            "Epoch 7/15\n",
            "50000/50000 [==============================] - 17s 331us/step - loss: 1.1822 - acc: 0.5805\n",
            "Epoch 8/15\n",
            "50000/50000 [==============================] - 17s 336us/step - loss: 1.1442 - acc: 0.5962\n",
            "Epoch 9/15\n",
            "50000/50000 [==============================] - 17s 338us/step - loss: 1.1201 - acc: 0.6070\n",
            "Epoch 10/15\n",
            "50000/50000 [==============================] - 17s 330us/step - loss: 1.1104 - acc: 0.6100\n",
            "Epoch 11/15\n",
            "50000/50000 [==============================] - 17s 334us/step - loss: 1.0886 - acc: 0.6169\n",
            "Epoch 12/15\n",
            "50000/50000 [==============================] - 17s 332us/step - loss: 1.0703 - acc: 0.6245\n",
            "Epoch 13/15\n",
            "50000/50000 [==============================] - 16s 329us/step - loss: 1.0585 - acc: 0.6301\n",
            "Epoch 14/15\n",
            "50000/50000 [==============================] - 16s 327us/step - loss: 1.0502 - acc: 0.6328\n",
            "Epoch 15/15\n",
            "50000/50000 [==============================] - 16s 329us/step - loss: 1.0384 - acc: 0.6387\n"
          ],
          "name": "stdout"
        },
        {
          "output_type": "execute_result",
          "data": {
            "text/plain": [
              "<keras.callbacks.History at 0x7f8014a20ba8>"
            ]
          },
          "metadata": {
            "tags": []
          },
          "execution_count": 61
        }
      ]
    },
    {
      "cell_type": "code",
      "metadata": {
        "id": "Wr1Vz9hihUk_",
        "colab_type": "code",
        "colab": {
          "base_uri": "https://localhost:8080/",
          "height": 52
        },
        "outputId": "2ae666c5-78d0-4f0b-d152-5a05320a42e8"
      },
      "source": [
        "model.evaluate(x_test1,y_test1)"
      ],
      "execution_count": 63,
      "outputs": [
        {
          "output_type": "stream",
          "text": [
            "10000/10000 [==============================] - 1s 130us/step\n"
          ],
          "name": "stdout"
        },
        {
          "output_type": "execute_result",
          "data": {
            "text/plain": [
              "[0.9608579441070557, 0.6801]"
            ]
          },
          "metadata": {
            "tags": []
          },
          "execution_count": 63
        }
      ]
    },
    {
      "cell_type": "code",
      "metadata": {
        "id": "avllcdzekGSM",
        "colab_type": "code",
        "colab": {}
      },
      "source": [
        ""
      ],
      "execution_count": 0,
      "outputs": []
    },
    {
      "cell_type": "code",
      "metadata": {
        "id": "StUI3cCwkTKC",
        "colab_type": "code",
        "colab": {}
      },
      "source": [
        "## data augmentation code starts here"
      ],
      "execution_count": 0,
      "outputs": []
    },
    {
      "cell_type": "code",
      "metadata": {
        "id": "Q4_u67oUkx8a",
        "colab_type": "code",
        "colab": {}
      },
      "source": [
        "from keras.preprocessing.image import ImageDataGenerator"
      ],
      "execution_count": 0,
      "outputs": []
    },
    {
      "cell_type": "code",
      "metadata": {
        "id": "89VJ1xFMk9SQ",
        "colab_type": "code",
        "colab": {}
      },
      "source": [
        "import numpy as np"
      ],
      "execution_count": 0,
      "outputs": []
    },
    {
      "cell_type": "code",
      "metadata": {
        "id": "1J53w0pGsbpT",
        "colab_type": "code",
        "colab": {}
      },
      "source": [
        "datagen = ImageDataGenerator(\n",
        "        featurewise_center=False,  # set input mean to 0 over the dataset\n",
        "        samplewise_center=False,  # set each sample mean to 0\n",
        "        featurewise_std_normalization=False,  # divide inputs by std of the dataset\n",
        "        samplewise_std_normalization=False,  # divide each input by its std\n",
        "        zca_whitening=False,  # apply ZCA whitening\n",
        "        zca_epsilon=1e-06,  # epsilon for ZCA whitening\n",
        "        rotation_range=0,  # randomly rotate images in the range (degrees, 0 to 180)\n",
        "        # randomly shift images horizontally (fraction of total width)\n",
        "        width_shift_range=0.1,\n",
        "        # randomly shift images vertically (fraction of total height)\n",
        "        height_shift_range=0.1,\n",
        "        shear_range=0.,  # set range for random shear\n",
        "        zoom_range=0.,  # set range for random zoom\n",
        "        channel_shift_range=0.,  # set range for random channel shifts\n",
        "        # set mode for filling points outside the input boundaries\n",
        "        fill_mode='nearest',\n",
        "        cval=0.,  # value used for fill_mode = \"constant\"\n",
        "        horizontal_flip=True,  # randomly flip images\n",
        "        vertical_flip=False,  # randomly flip images\n",
        "        # set rescaling factor (applied before any other transformation)\n",
        "        rescale=None,\n",
        "        # set function that will be applied on each input\n",
        "        preprocessing_function=None,\n",
        "        # image data format, either \"channels_first\" or \"channels_last\"\n",
        "        data_format=None,\n",
        "        # fraction of images reserved for validation (strictly between 0 and 1)\n",
        "        validation_split=0.0)\n"
      ],
      "execution_count": 0,
      "outputs": []
    },
    {
      "cell_type": "code",
      "metadata": {
        "id": "nBl1_ZOFtTic",
        "colab_type": "code",
        "colab": {
          "base_uri": "https://localhost:8080/",
          "height": 923
        },
        "outputId": "4cc56e4d-7105-4e83-d046-38bd1b3bd272"
      },
      "source": [
        "datagen.fit(x_train)\n",
        "\n",
        "    # Fit the model on the batches generated by datagen.flow().\n",
        "model.fit_generator(datagen.flow(x_train1, y_train1),\n",
        "                        epochs=25,\n",
        "                        validation_data=(x_test1, y_test1),\n",
        "                        workers=4)"
      ],
      "execution_count": 77,
      "outputs": [
        {
          "output_type": "stream",
          "text": [
            "Epoch 1/25\n",
            "1563/1563 [==============================] - 34s 22ms/step - loss: 1.1410 - acc: 0.6018 - val_loss: 0.9765 - val_acc: 0.6559\n",
            "Epoch 2/25\n",
            "1563/1563 [==============================] - 35s 22ms/step - loss: 1.1363 - acc: 0.6036 - val_loss: 1.0020 - val_acc: 0.6538\n",
            "Epoch 3/25\n",
            "1563/1563 [==============================] - 34s 22ms/step - loss: 1.1266 - acc: 0.6082 - val_loss: 1.0031 - val_acc: 0.6498\n",
            "Epoch 4/25\n",
            "1563/1563 [==============================] - 34s 22ms/step - loss: 1.1161 - acc: 0.6147 - val_loss: 0.9580 - val_acc: 0.6689\n",
            "Epoch 5/25\n",
            "1563/1563 [==============================] - 34s 22ms/step - loss: 1.1182 - acc: 0.6100 - val_loss: 0.9615 - val_acc: 0.6608\n",
            "Epoch 6/25\n",
            "1563/1563 [==============================] - 34s 22ms/step - loss: 1.1047 - acc: 0.6178 - val_loss: 0.9331 - val_acc: 0.6771\n",
            "Epoch 7/25\n",
            "1563/1563 [==============================] - 34s 22ms/step - loss: 1.1071 - acc: 0.6157 - val_loss: 0.9569 - val_acc: 0.6713\n",
            "Epoch 8/25\n",
            "1563/1563 [==============================] - 34s 22ms/step - loss: 1.1018 - acc: 0.6183 - val_loss: 0.9245 - val_acc: 0.6715\n",
            "Epoch 9/25\n",
            "1563/1563 [==============================] - 34s 22ms/step - loss: 1.0956 - acc: 0.6221 - val_loss: 0.9309 - val_acc: 0.6754\n",
            "Epoch 10/25\n",
            "1563/1563 [==============================] - 34s 22ms/step - loss: 1.0910 - acc: 0.6248 - val_loss: 0.8881 - val_acc: 0.7058\n",
            "Epoch 11/25\n",
            "1563/1563 [==============================] - 34s 22ms/step - loss: 1.0881 - acc: 0.6257 - val_loss: 0.9431 - val_acc: 0.6708\n",
            "Epoch 12/25\n",
            "1563/1563 [==============================] - 34s 22ms/step - loss: 1.0954 - acc: 0.6224 - val_loss: 0.8895 - val_acc: 0.6960\n",
            "Epoch 13/25\n",
            "1563/1563 [==============================] - 34s 22ms/step - loss: 1.0888 - acc: 0.6262 - val_loss: 0.9161 - val_acc: 0.6913\n",
            "Epoch 14/25\n",
            "1563/1563 [==============================] - 34s 22ms/step - loss: 1.0831 - acc: 0.6297 - val_loss: 0.9440 - val_acc: 0.6703\n",
            "Epoch 15/25\n",
            "1563/1563 [==============================] - 34s 22ms/step - loss: 1.0847 - acc: 0.6257 - val_loss: 0.9214 - val_acc: 0.6854\n",
            "Epoch 16/25\n",
            "1563/1563 [==============================] - 34s 22ms/step - loss: 1.0786 - acc: 0.6328 - val_loss: 0.8974 - val_acc: 0.6888\n",
            "Epoch 17/25\n",
            "1563/1563 [==============================] - 34s 22ms/step - loss: 1.0758 - acc: 0.6317 - val_loss: 0.9372 - val_acc: 0.6704\n",
            "Epoch 18/25\n",
            "1563/1563 [==============================] - 34s 22ms/step - loss: 1.0793 - acc: 0.6320 - val_loss: 0.8895 - val_acc: 0.6931\n",
            "Epoch 19/25\n",
            "1563/1563 [==============================] - 34s 22ms/step - loss: 1.0789 - acc: 0.6285 - val_loss: 0.8716 - val_acc: 0.7021\n",
            "Epoch 20/25\n",
            "1563/1563 [==============================] - 34s 22ms/step - loss: 1.0794 - acc: 0.6296 - val_loss: 0.9070 - val_acc: 0.6815\n",
            "Epoch 21/25\n",
            "1563/1563 [==============================] - 34s 22ms/step - loss: 1.0719 - acc: 0.6334 - val_loss: 0.9259 - val_acc: 0.6785\n",
            "Epoch 22/25\n",
            "1563/1563 [==============================] - 34s 22ms/step - loss: 1.0696 - acc: 0.6317 - val_loss: 0.9674 - val_acc: 0.6666\n",
            "Epoch 23/25\n",
            "1563/1563 [==============================] - 34s 22ms/step - loss: 1.0742 - acc: 0.6329 - val_loss: 0.9693 - val_acc: 0.6759\n",
            "Epoch 24/25\n",
            "1563/1563 [==============================] - 34s 21ms/step - loss: 1.0671 - acc: 0.6382 - val_loss: 0.9452 - val_acc: 0.6816\n",
            "Epoch 25/25\n",
            "1563/1563 [==============================] - 34s 22ms/step - loss: 1.0691 - acc: 0.6357 - val_loss: 0.9102 - val_acc: 0.6871\n"
          ],
          "name": "stdout"
        },
        {
          "output_type": "execute_result",
          "data": {
            "text/plain": [
              "<keras.callbacks.History at 0x7f8003f9c3c8>"
            ]
          },
          "metadata": {
            "tags": []
          },
          "execution_count": 77
        }
      ]
    },
    {
      "cell_type": "code",
      "metadata": {
        "id": "MIVYKUuwta_Q",
        "colab_type": "code",
        "colab": {
          "base_uri": "https://localhost:8080/",
          "height": 69
        },
        "outputId": "9e761fe5-0347-4495-d347-7b0a72a0830a"
      },
      "source": [
        "scores = model.evaluate(x_test1, y_test1, verbose=1)\n",
        "print('Test loss:', scores[0])\n",
        "print('Test accuracy:', scores[1])"
      ],
      "execution_count": 78,
      "outputs": [
        {
          "output_type": "stream",
          "text": [
            "10000/10000 [==============================] - 1s 128us/step\n",
            "Test loss: 0.9102423621177673\n",
            "Test accuracy: 0.6871\n"
          ],
          "name": "stdout"
        }
      ]
    },
    {
      "cell_type": "code",
      "metadata": {
        "id": "pvZ29Rk1t7Br",
        "colab_type": "code",
        "colab": {}
      },
      "source": [
        ""
      ],
      "execution_count": 0,
      "outputs": []
    }
  ]
}