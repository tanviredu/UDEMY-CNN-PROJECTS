{
  "nbformat": 4,
  "nbformat_minor": 0,
  "metadata": {
    "colab": {
      "name": "CIFR_IMAGE_CLASSIFICATION.ipynb",
      "provenance": []
    },
    "kernelspec": {
      "name": "python3",
      "display_name": "Python 3"
    },
    "accelerator": "GPU"
  },
  "cells": [
    {
      "cell_type": "markdown",
      "metadata": {
        "id": "5XHlnlz5vL0M",
        "colab_type": "text"
      },
      "source": [
        "*** CIFR IMAGE CLASSIFICATIOn ***"
      ]
    },
    {
      "cell_type": "code",
      "metadata": {
        "id": "9lQXU5WSvSe2",
        "colab_type": "code",
        "colab": {}
      },
      "source": [
        "#importing dataset\n",
        "from keras.datasets import cifar10"
      ],
      "execution_count": 0,
      "outputs": []
    },
    {
      "cell_type": "code",
      "metadata": {
        "id": "rseyszoMvaXn",
        "colab_type": "code",
        "colab": {}
      },
      "source": [
        "from keras.utils import np_utils\n",
        "from keras.models import Sequential\n",
        "from keras.layers.core import Dense,Dropout,Activation,Flatten\n",
        "from keras.layers.convolutional import Conv2D,MaxPooling2D\n",
        "from keras.optimizers import SGD,Adam,RMSprop\n",
        "import matplotlib.pyplot as plt\n",
        "import seaborn as sns\n",
        "import pandas as pd\n",
        "import keras\n"
      ],
      "execution_count": 0,
      "outputs": []
    },
    {
      "cell_type": "code",
      "metadata": {
        "id": "YMJunEt2wJnG",
        "colab_type": "code",
        "colab": {
          "base_uri": "https://localhost:8080/",
          "height": 52
        },
        "outputId": "6c365c2a-d0fe-458b-cb5d-454762804231"
      },
      "source": [
        "(x_train,y_train),(x_test,y_test) = cifar10.load_data()"
      ],
      "execution_count": 3,
      "outputs": [
        {
          "output_type": "stream",
          "text": [
            "Downloading data from https://www.cs.toronto.edu/~kriz/cifar-10-python.tar.gz\n",
            "170500096/170498071 [==============================] - 6s 0us/step\n"
          ],
          "name": "stdout"
        }
      ]
    },
    {
      "cell_type": "code",
      "metadata": {
        "id": "WaA1FLqnw1kg",
        "colab_type": "code",
        "colab": {
          "base_uri": "https://localhost:8080/",
          "height": 86
        },
        "outputId": "947c004d-0c55-480c-c81a-b55523e2d2f6"
      },
      "source": [
        "## see the shpae of the data\n",
        "print(x_train.shape)\n",
        "print(x_test.shape)\n",
        "print(y_train.shape)\n",
        "print(y_test.shape)"
      ],
      "execution_count": 4,
      "outputs": [
        {
          "output_type": "stream",
          "text": [
            "(50000, 32, 32, 3)\n",
            "(10000, 32, 32, 3)\n",
            "(50000, 1)\n",
            "(10000, 1)\n"
          ],
          "name": "stdout"
        }
      ]
    },
    {
      "cell_type": "code",
      "metadata": {
        "id": "e7vG4x1mxR7S",
        "colab_type": "code",
        "colab": {}
      },
      "source": [
        "## changing the target to categorical as it is not numerical\n",
        "y_train = np_utils.to_categorical(y_train)\n",
        "y_test = np_utils.to_categorical(y_test)"
      ],
      "execution_count": 0,
      "outputs": []
    },
    {
      "cell_type": "code",
      "metadata": {
        "id": "pkR346MBx_wd",
        "colab_type": "code",
        "colab": {}
      },
      "source": [
        "## normalization\n",
        "x_train_norm = keras.utils.normalize(x_train)\n",
        "x_test_norm = keras.utils.normalize(x_test)"
      ],
      "execution_count": 0,
      "outputs": []
    },
    {
      "cell_type": "code",
      "metadata": {
        "id": "VCuNqVFSyBYD",
        "colab_type": "code",
        "colab": {
          "base_uri": "https://localhost:8080/",
          "height": 286
        },
        "outputId": "3a25d1de-1e5a-4c81-ca81-8c618cd68ad7"
      },
      "source": [
        "plt.imshow(x_train[0])"
      ],
      "execution_count": 14,
      "outputs": [
        {
          "output_type": "execute_result",
          "data": {
            "text/plain": [
              "<matplotlib.image.AxesImage at 0x7f79ac1c9668>"
            ]
          },
          "metadata": {
            "tags": []
          },
          "execution_count": 14
        },
        {
          "output_type": "display_data",
          "data": {
            "image/png": "[encoded data removed]",
            "text/plain": [
              "<Figure size 432x288 with 1 Axes>"
            ]
          },
          "metadata": {
            "tags": []
          }
        }
      ]
    },
    {
      "cell_type": "code",
      "metadata": {
        "id": "rkNIQIBBygjB",
        "colab_type": "code",
        "colab": {}
      },
      "source": [
        "def NNmodel():\n",
        "  model = Sequential()\n",
        "  model.add(Conv2D(32,(3,3),padding='same',input_shape=(32,32,3)))\n",
        "  ## we are using 32 convolutional filter and each is 3x3 size and the input shape is the shape given\n",
        "  ## we add max pool with 2x2 size\n",
        "\n",
        "  model.add(Activation('relu'))\n",
        "  model.add(MaxPooling2D(pool_size=(2,2)))\n",
        "  model.add(Dropout(.2))\n",
        "  ## this is the inittial processing layer\n",
        "\n",
        "  ## this is the calculation layer\n",
        "  model.add(Flatten())\n",
        "  model.add(Dense(512)) ## there will be 512 nurons\n",
        "  model.add(Activation('relu'))\n",
        "  model.add(Dropout(.2))\n",
        "  model.add(Dense(512)) ## there will be 512 nurons\n",
        "  model.add(Activation('relu'))\n",
        "  model.add(Dropout(.2))\n",
        "  model.add(Dense(512)) ## there will be 512 nurons\n",
        "  model.add(Activation('relu'))\n",
        "  model.add(Dropout(.2))\n",
        "  model.add(Dense(10)) ## there will be 10 nurons this will be target\n",
        "  model.add(Activation('softmax'))\n",
        "  model.compile(loss=\"categorical_crossentropy\",optimizer=RMSprop(),metrics=['accuracy'])\n",
        "  return model\n",
        "\n"
      ],
      "execution_count": 0,
      "outputs": []
    },
    {
      "cell_type": "code",
      "metadata": {
        "id": "V8eRS7Pq2ABt",
        "colab_type": "code",
        "colab": {
          "base_uri": "https://localhost:8080/",
          "height": 72
        },
        "outputId": "57cc14a2-5354-42b7-d4e9-ba8d41cbc9b8"
      },
      "source": [
        "model = NNmodel()"
      ],
      "execution_count": 20,
      "outputs": [
        {
          "output_type": "stream",
          "text": [
            "WARNING:tensorflow:From /usr/local/lib/python3.6/dist-packages/keras/backend/tensorflow_backend.py:3576: The name tf.log is deprecated. Please use tf.math.log instead.\n",
            "\n"
          ],
          "name": "stdout"
        }
      ]
    },
    {
      "cell_type": "code",
      "metadata": {
        "id": "VRhWeCaY2DRn",
        "colab_type": "code",
        "colab": {
          "base_uri": "https://localhost:8080/",
          "height": 1000
        },
        "outputId": "364d6126-ce85-4b6d-dfec-f7b5e4e1a88f"
      },
      "source": [
        "model.fit(x_train_norm,y_train,epochs=50)"
      ],
      "execution_count": 21,
      "outputs": [
        {
          "output_type": "stream",
          "text": [
            "WARNING:tensorflow:From /usr/local/lib/python3.6/dist-packages/tensorflow/python/ops/math_grad.py:1250: add_dispatch_support.<locals>.wrapper (from tensorflow.python.ops.array_ops) is deprecated and will be removed in a future version.\n",
            "Instructions for updating:\n",
            "Use tf.where in 2.0, which has the same broadcast rule as np.where\n",
            "Epoch 1/50\n",
            "50000/50000 [==============================] - 19s 386us/step - loss: 1.8568 - acc: 0.3263\n",
            "Epoch 2/50\n",
            "50000/50000 [==============================] - 11s 226us/step - loss: 1.6733 - acc: 0.4071\n",
            "Epoch 3/50\n",
            "50000/50000 [==============================] - 11s 226us/step - loss: 1.6130 - acc: 0.4387\n",
            "Epoch 4/50\n",
            "50000/50000 [==============================] - 11s 226us/step - loss: 1.5834 - acc: 0.4504\n",
            "Epoch 5/50\n",
            "50000/50000 [==============================] - 11s 226us/step - loss: 1.5739 - acc: 0.4562\n",
            "Epoch 6/50\n",
            "50000/50000 [==============================] - 11s 225us/step - loss: 1.5693 - acc: 0.4639\n",
            "Epoch 7/50\n",
            "50000/50000 [==============================] - 12s 230us/step - loss: 1.5713 - acc: 0.4648\n",
            "Epoch 8/50\n",
            "50000/50000 [==============================] - 11s 227us/step - loss: 1.5707 - acc: 0.4689\n",
            "Epoch 9/50\n",
            "50000/50000 [==============================] - 11s 223us/step - loss: 1.5757 - acc: 0.4663\n",
            "Epoch 10/50\n",
            "50000/50000 [==============================] - 11s 226us/step - loss: 1.5863 - acc: 0.4647\n",
            "Epoch 11/50\n",
            "50000/50000 [==============================] - 11s 224us/step - loss: 1.5768 - acc: 0.4698\n",
            "Epoch 12/50\n",
            "50000/50000 [==============================] - 11s 225us/step - loss: 1.5920 - acc: 0.4659\n",
            "Epoch 13/50\n",
            "50000/50000 [==============================] - 11s 223us/step - loss: 1.5859 - acc: 0.4666\n",
            "Epoch 14/50\n",
            "50000/50000 [==============================] - 11s 226us/step - loss: 1.5958 - acc: 0.4694\n",
            "Epoch 15/50\n",
            "50000/50000 [==============================] - 11s 224us/step - loss: 1.5959 - acc: 0.4676\n",
            "Epoch 16/50\n",
            "50000/50000 [==============================] - 11s 225us/step - loss: 1.6232 - acc: 0.4579\n",
            "Epoch 17/50\n",
            "50000/50000 [==============================] - 11s 224us/step - loss: 1.6078 - acc: 0.4664\n",
            "Epoch 18/50\n",
            "50000/50000 [==============================] - 11s 224us/step - loss: 1.6046 - acc: 0.4639\n",
            "Epoch 19/50\n",
            "50000/50000 [==============================] - 11s 225us/step - loss: 1.6161 - acc: 0.4619\n",
            "Epoch 20/50\n",
            "50000/50000 [==============================] - 11s 225us/step - loss: 1.6461 - acc: 0.4554\n",
            "Epoch 21/50\n",
            "50000/50000 [==============================] - 11s 223us/step - loss: 1.6654 - acc: 0.4479\n",
            "Epoch 22/50\n",
            "50000/50000 [==============================] - 11s 223us/step - loss: 1.6544 - acc: 0.4486\n",
            "Epoch 23/50\n",
            "50000/50000 [==============================] - 11s 227us/step - loss: 1.6670 - acc: 0.4470\n",
            "Epoch 24/50\n",
            "50000/50000 [==============================] - 11s 228us/step - loss: 1.6796 - acc: 0.4429\n",
            "Epoch 25/50\n",
            "50000/50000 [==============================] - 11s 224us/step - loss: 1.6814 - acc: 0.4420\n",
            "Epoch 26/50\n",
            "50000/50000 [==============================] - 11s 226us/step - loss: 1.6924 - acc: 0.4429\n",
            "Epoch 27/50\n",
            "50000/50000 [==============================] - 11s 225us/step - loss: 1.7065 - acc: 0.4301\n",
            "Epoch 28/50\n",
            "50000/50000 [==============================] - 11s 226us/step - loss: 1.7223 - acc: 0.4302\n",
            "Epoch 29/50\n",
            "50000/50000 [==============================] - 11s 227us/step - loss: 1.7114 - acc: 0.4334\n",
            "Epoch 30/50\n",
            "50000/50000 [==============================] - 11s 226us/step - loss: 1.7097 - acc: 0.4328\n",
            "Epoch 31/50\n",
            "50000/50000 [==============================] - 11s 226us/step - loss: 1.7159 - acc: 0.4312\n",
            "Epoch 32/50\n",
            "50000/50000 [==============================] - 11s 223us/step - loss: 1.7123 - acc: 0.4331\n",
            "Epoch 33/50\n",
            "50000/50000 [==============================] - 11s 223us/step - loss: 1.7119 - acc: 0.4313\n",
            "Epoch 34/50\n",
            "50000/50000 [==============================] - 11s 227us/step - loss: 1.7172 - acc: 0.4291\n",
            "Epoch 35/50\n",
            "50000/50000 [==============================] - 11s 226us/step - loss: 1.7101 - acc: 0.4241\n",
            "Epoch 36/50\n",
            "50000/50000 [==============================] - 11s 223us/step - loss: 1.7176 - acc: 0.4287\n",
            "Epoch 37/50\n",
            "50000/50000 [==============================] - 11s 225us/step - loss: 1.7178 - acc: 0.4270\n",
            "Epoch 38/50\n",
            "50000/50000 [==============================] - 11s 223us/step - loss: 1.7081 - acc: 0.4331\n",
            "Epoch 39/50\n",
            "50000/50000 [==============================] - 11s 225us/step - loss: 1.7218 - acc: 0.4317\n",
            "Epoch 40/50\n",
            "50000/50000 [==============================] - 11s 222us/step - loss: 1.7340 - acc: 0.4282\n",
            "Epoch 41/50\n",
            "50000/50000 [==============================] - 11s 225us/step - loss: 1.7271 - acc: 0.4302\n",
            "Epoch 42/50\n",
            "50000/50000 [==============================] - 11s 224us/step - loss: 1.7404 - acc: 0.4269\n",
            "Epoch 43/50\n",
            "50000/50000 [==============================] - 11s 224us/step - loss: 1.7378 - acc: 0.4212\n",
            "Epoch 44/50\n",
            "50000/50000 [==============================] - 11s 225us/step - loss: 1.7364 - acc: 0.4251\n",
            "Epoch 45/50\n",
            "50000/50000 [==============================] - 11s 226us/step - loss: 1.7429 - acc: 0.4203\n",
            "Epoch 46/50\n",
            "50000/50000 [==============================] - 11s 223us/step - loss: 1.7535 - acc: 0.4173\n",
            "Epoch 47/50\n",
            "50000/50000 [==============================] - 11s 224us/step - loss: 1.7458 - acc: 0.4144\n",
            "Epoch 48/50\n",
            "50000/50000 [==============================] - 11s 227us/step - loss: 1.7614 - acc: 0.4200\n",
            "Epoch 49/50\n",
            "50000/50000 [==============================] - 11s 222us/step - loss: 1.7460 - acc: 0.4208\n",
            "Epoch 50/50\n",
            "50000/50000 [==============================] - 11s 223us/step - loss: 1.7395 - acc: 0.4243\n"
          ],
          "name": "stdout"
        },
        {
          "output_type": "execute_result",
          "data": {
            "text/plain": [
              "<keras.callbacks.History at 0x7f79ab73fd30>"
            ]
          },
          "metadata": {
            "tags": []
          },
          "execution_count": 21
        }
      ]
    },
    {
      "cell_type": "code",
      "metadata": {
        "id": "uPCcKLvX2SXj",
        "colab_type": "code",
        "colab": {
          "base_uri": "https://localhost:8080/",
          "height": 34
        },
        "outputId": "06829fd9-6455-47a3-bf31-e07566bd35a9"
      },
      "source": [
        "score = model.evaluate(x_test_norm,y_test)"
      ],
      "execution_count": 22,
      "outputs": [
        {
          "output_type": "stream",
          "text": [
            "10000/10000 [==============================] - 1s 83us/step\n"
          ],
          "name": "stdout"
        }
      ]
    },
    {
      "cell_type": "code",
      "metadata": {
        "id": "lCXOBcUJ5d5N",
        "colab_type": "code",
        "colab": {
          "base_uri": "https://localhost:8080/",
          "height": 34
        },
        "outputId": "bccdb548-b01a-4473-b5e2-ae3aa576dccc"
      },
      "source": [
        "print (score)"
      ],
      "execution_count": 23,
      "outputs": [
        {
          "output_type": "stream",
          "text": [
            "[3.928401826477051, 0.257]\n"
          ],
          "name": "stdout"
        }
      ]
    },
    {
      "cell_type": "code",
      "metadata": {
        "id": "_J-FSQBe5gD6",
        "colab_type": "code",
        "colab": {}
      },
      "source": [
        "# its very poor score make another Deeper model"
      ],
      "execution_count": 0,
      "outputs": []
    },
    {
      "cell_type": "code",
      "metadata": {
        "id": "xBuUSm495yP-",
        "colab_type": "code",
        "colab": {}
      },
      "source": [
        ""
      ],
      "execution_count": 0,
      "outputs": []
    }
  ]
}